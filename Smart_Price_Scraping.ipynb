{
 "cells": [
  {
   "cell_type": "markdown",
   "id": "ad075466",
   "metadata": {},
   "source": [
    "## Searching for Products Price in other Websites"
   ]
  },
  {
   "cell_type": "code",
   "execution_count": 875,
   "id": "75c0ca67",
   "metadata": {},
   "outputs": [],
   "source": [
    "from selenium import webdriver\n",
    "from selenium.webdriver.chrome.service import Service\n",
    "from selenium.webdriver.common.by import By\n",
    "from selenium.webdriver.common.keys import Keys\n",
    "from selenium.webdriver.support.ui import WebDriverWait\n",
    "from selenium.webdriver.support import expected_conditions as EC\n",
    "import pandas as pd\n",
    "import numpy as np"
   ]
  },
  {
   "cell_type": "code",
   "execution_count": 876,
   "id": "2cee09af",
   "metadata": {},
   "outputs": [],
   "source": [
    "Products_data = pd.read_excel(\"Products_data.xlsx\")"
   ]
  },
  {
   "cell_type": "code",
   "execution_count": 877,
   "id": "e8935020",
   "metadata": {},
   "outputs": [
    {
     "data": {
      "text/html": [
       "<div>\n",
       "<style scoped>\n",
       "    .dataframe tbody tr th:only-of-type {\n",
       "        vertical-align: middle;\n",
       "    }\n",
       "\n",
       "    .dataframe tbody tr th {\n",
       "        vertical-align: top;\n",
       "    }\n",
       "\n",
       "    .dataframe thead th {\n",
       "        text-align: right;\n",
       "    }\n",
       "</style>\n",
       "<table border=\"1\" class=\"dataframe\">\n",
       "  <thead>\n",
       "    <tr style=\"text-align: right;\">\n",
       "      <th></th>\n",
       "      <th>Model</th>\n",
       "      <th>Features</th>\n",
       "      <th>Capacities</th>\n",
       "      <th>Dimensions</th>\n",
       "      <th>Images</th>\n",
       "    </tr>\n",
       "  </thead>\n",
       "  <tbody>\n",
       "    <tr>\n",
       "      <th>0</th>\n",
       "      <td>MJEN326SFW</td>\n",
       "      <td>['ThinQ', '30 Healthy Heart™ Auto Cook Menu/30...</td>\n",
       "      <td>CAPACITY (LITRE)\\n32 L</td>\n",
       "      <td>DIMENSIONS (W X H X D) (MM)\\n530 x 322 x 520</td>\n",
       "      <td>https://www.lg.com/in/images/microwave-ovens/m...</td>\n",
       "    </tr>\n",
       "    <tr>\n",
       "      <th>1</th>\n",
       "      <td>MJEN326SF</td>\n",
       "      <td>['Healthy Heart™ Auto Cook , Heart Friendly Re...</td>\n",
       "      <td>CAPACITY (LITRE)\\n32L</td>\n",
       "      <td>DIMENSIONS (W X H X D) (MM)\\n530 x 322 x 520</td>\n",
       "      <td>https://www.lg.com/in/images/microwave-ovens/m...</td>\n",
       "    </tr>\n",
       "    <tr>\n",
       "      <th>2</th>\n",
       "      <td>MJEN326PK</td>\n",
       "      <td>['Healthy Heart™ Auto Cook , Heart Friendly Re...</td>\n",
       "      <td>CAPACITY (LITRE)\\n32L</td>\n",
       "      <td>DIMENSIONS (W X H X D) (MM)\\n530 x 322 x 520</td>\n",
       "      <td>https://www.lg.com/in/images/microwave-ovens/m...</td>\n",
       "    </tr>\n",
       "    <tr>\n",
       "      <th>3</th>\n",
       "      <td>MJEN326UH</td>\n",
       "      <td>['Healthy Heart™ Auto Cook , Heart Friendly Re...</td>\n",
       "      <td>CAPACITY (LITRE)\\n32L</td>\n",
       "      <td>DIMENSIONS (W X H X D) (MM)\\n530 x 322 x 520</td>\n",
       "      <td>https://www.lg.com/in/images/microwave-ovens/m...</td>\n",
       "    </tr>\n",
       "    <tr>\n",
       "      <th>4</th>\n",
       "      <td>MJEN326UL</td>\n",
       "      <td>['Healthy Heart™ Auto Cook , Heart Friendly Re...</td>\n",
       "      <td>CAPACITY (LITRE)\\n32L</td>\n",
       "      <td>DIMENSIONS (W X H X D) (MM)\\n530 x 322 x 520</td>\n",
       "      <td>https://www.lg.com/in/images/microwave-ovens/m...</td>\n",
       "    </tr>\n",
       "    <tr>\n",
       "      <th>5</th>\n",
       "      <td>MC3286BRUM</td>\n",
       "      <td>['All In One Convection Oven', 'Ghee in 12 min...</td>\n",
       "      <td>CAPACITY (LITRE)\\n32L</td>\n",
       "      <td>DIMENSIONS (W X H X D) (MM)\\n530 x 322 x 533</td>\n",
       "      <td>https://www.lg.com/in/images/microwave-ovens/m...</td>\n",
       "    </tr>\n",
       "    <tr>\n",
       "      <th>6</th>\n",
       "      <td>MJEN286UF</td>\n",
       "      <td>['Charcoal Lighting HeaterTM', 'Healthy Heart™...</td>\n",
       "      <td>CAPACITY (LITRE)\\n28L</td>\n",
       "      <td>DIMENSIONS (W X H X D) (MM)\\n512 x 311 x 488</td>\n",
       "      <td>https://www.lg.com/in/images/microwave-ovens/m...</td>\n",
       "    </tr>\n",
       "    <tr>\n",
       "      <th>7</th>\n",
       "      <td>MJEN286UH</td>\n",
       "      <td>['Charcoal Lighting Heater™', '30 Healthy Hear...</td>\n",
       "      <td>CAPACITY (LITRE)\\n28L</td>\n",
       "      <td>DIMENSIONS (W X H X D) (MM)\\n512 x 311 x 488</td>\n",
       "      <td>https://www.lg.com/in/images/microwave-ovens/m...</td>\n",
       "    </tr>\n",
       "    <tr>\n",
       "      <th>8</th>\n",
       "      <td>MJEN286UI</td>\n",
       "      <td>['Charcoal Lighting Heater™', '30 Healthy Hear...</td>\n",
       "      <td>CAPACITY (LITRE)\\n28L</td>\n",
       "      <td>DIMENSIONS (W X H X D) (MM)\\n512 x 311 x 488</td>\n",
       "      <td>https://www.lg.com/in/images/microwave-ovens/m...</td>\n",
       "    </tr>\n",
       "    <tr>\n",
       "      <th>9</th>\n",
       "      <td>MJEN286VI</td>\n",
       "      <td>['Charcoal Lighting Heater™', '30 Healthy Hear...</td>\n",
       "      <td>CAPACITY (LITRE)\\n28L</td>\n",
       "      <td>DIMENSIONS (W X H X D) (MM)\\n512 x 311 x 488</td>\n",
       "      <td>https://www.lg.com/in/images/microwave-ovens/m...</td>\n",
       "    </tr>\n",
       "  </tbody>\n",
       "</table>\n",
       "</div>"
      ],
      "text/plain": [
       "        Model                                           Features  \\\n",
       "0  MJEN326SFW  ['ThinQ', '30 Healthy Heart™ Auto Cook Menu/30...   \n",
       "1   MJEN326SF  ['Healthy Heart™ Auto Cook , Heart Friendly Re...   \n",
       "2   MJEN326PK  ['Healthy Heart™ Auto Cook , Heart Friendly Re...   \n",
       "3   MJEN326UH  ['Healthy Heart™ Auto Cook , Heart Friendly Re...   \n",
       "4   MJEN326UL  ['Healthy Heart™ Auto Cook , Heart Friendly Re...   \n",
       "5  MC3286BRUM  ['All In One Convection Oven', 'Ghee in 12 min...   \n",
       "6   MJEN286UF  ['Charcoal Lighting HeaterTM', 'Healthy Heart™...   \n",
       "7   MJEN286UH  ['Charcoal Lighting Heater™', '30 Healthy Hear...   \n",
       "8   MJEN286UI  ['Charcoal Lighting Heater™', '30 Healthy Hear...   \n",
       "9   MJEN286VI  ['Charcoal Lighting Heater™', '30 Healthy Hear...   \n",
       "\n",
       "               Capacities                                    Dimensions  \\\n",
       "0  CAPACITY (LITRE)\\n32 L  DIMENSIONS (W X H X D) (MM)\\n530 x 322 x 520   \n",
       "1   CAPACITY (LITRE)\\n32L  DIMENSIONS (W X H X D) (MM)\\n530 x 322 x 520   \n",
       "2   CAPACITY (LITRE)\\n32L  DIMENSIONS (W X H X D) (MM)\\n530 x 322 x 520   \n",
       "3   CAPACITY (LITRE)\\n32L  DIMENSIONS (W X H X D) (MM)\\n530 x 322 x 520   \n",
       "4   CAPACITY (LITRE)\\n32L  DIMENSIONS (W X H X D) (MM)\\n530 x 322 x 520   \n",
       "5   CAPACITY (LITRE)\\n32L  DIMENSIONS (W X H X D) (MM)\\n530 x 322 x 533   \n",
       "6   CAPACITY (LITRE)\\n28L  DIMENSIONS (W X H X D) (MM)\\n512 x 311 x 488   \n",
       "7   CAPACITY (LITRE)\\n28L  DIMENSIONS (W X H X D) (MM)\\n512 x 311 x 488   \n",
       "8   CAPACITY (LITRE)\\n28L  DIMENSIONS (W X H X D) (MM)\\n512 x 311 x 488   \n",
       "9   CAPACITY (LITRE)\\n28L  DIMENSIONS (W X H X D) (MM)\\n512 x 311 x 488   \n",
       "\n",
       "                                              Images  \n",
       "0  https://www.lg.com/in/images/microwave-ovens/m...  \n",
       "1  https://www.lg.com/in/images/microwave-ovens/m...  \n",
       "2  https://www.lg.com/in/images/microwave-ovens/m...  \n",
       "3  https://www.lg.com/in/images/microwave-ovens/m...  \n",
       "4  https://www.lg.com/in/images/microwave-ovens/m...  \n",
       "5  https://www.lg.com/in/images/microwave-ovens/m...  \n",
       "6  https://www.lg.com/in/images/microwave-ovens/m...  \n",
       "7  https://www.lg.com/in/images/microwave-ovens/m...  \n",
       "8  https://www.lg.com/in/images/microwave-ovens/m...  \n",
       "9  https://www.lg.com/in/images/microwave-ovens/m...  "
      ]
     },
     "execution_count": 877,
     "metadata": {},
     "output_type": "execute_result"
    }
   ],
   "source": [
    "Products_data.head(10)"
   ]
  },
  {
   "cell_type": "code",
   "execution_count": 878,
   "id": "d3209cba",
   "metadata": {},
   "outputs": [
    {
     "data": {
      "text/plain": [
       "(1195, 5)"
      ]
     },
     "execution_count": 878,
     "metadata": {},
     "output_type": "execute_result"
    }
   ],
   "source": [
    "Products_data.shape"
   ]
  },
  {
   "cell_type": "code",
   "execution_count": 879,
   "id": "1bc19781",
   "metadata": {},
   "outputs": [],
   "source": [
    "PATH=\"C:\\Program Files (x86)\\chromedriver.exe\"\n",
    "Service_PATH= Service(PATH)\n",
    "driver = webdriver.Chrome(service=Service_PATH)"
   ]
  },
  {
   "cell_type": "code",
   "execution_count": 880,
   "id": "1069b7e6",
   "metadata": {},
   "outputs": [],
   "source": [
    "Models=list(Products_data.Model)[len(Croma_final):]\n",
    "Amazon=[]\n",
    "Flipkart=[]\n",
    "Croma=[]"
   ]
  },
  {
   "cell_type": "code",
   "execution_count": 882,
   "id": "aa971f09",
   "metadata": {},
   "outputs": [],
   "source": [
    "length_amazon=len(Amazon)\n",
    "length_Flipkart=len(Flipkart)\n",
    "length_Croma=len(Croma)\n",
    "\n",
    "for model in Models:\n",
    "    driver.get(\"https://www.smartprix.com\")\n",
    "    input_text=WebDriverWait(driver, 5).until(\n",
    "                EC.presence_of_element_located((By.XPATH,\"/html[1]/body[1]/div[1]/header[1]/div[1]/div[1]/form[1]/div[1]/input[1]\"))\n",
    "            )\n",
    "    input_text.send_keys(\"LG \"+ model)\n",
    "    input_text.send_keys(Keys.ENTER)\n",
    "    try:\n",
    "        first_product_link= WebDriverWait(driver, 5).until(\n",
    "                EC.presence_of_element_located((By.XPATH,\"/html[1]/body[1]/div[1]/main[1]/div[1]/div[2]/div[2]/div[1]/a[1]\"))\n",
    "            )\n",
    "        first_product_link=first_product_link.get_attribute(\"href\")\n",
    "        first_product_name=WebDriverWait(driver, 5).until(\n",
    "                EC.presence_of_element_located((By.XPATH,\"/html[1]/body[1]/div[1]/main[1]/div[1]/div[2]/div[2]/div[1]/a[1]/h2[1]\"))\n",
    "            )\n",
    "        first_product_name=first_product_name.text\n",
    "    except:\n",
    "        Amazon.append(\"\")\n",
    "        Flipkart.append(\"\")\n",
    "        Croma.append(\"\")\n",
    "        length_amazon+=1\n",
    "        length_Flipkart+=1\n",
    "        length_Croma+=1\n",
    "        continue\n",
    "    if model in first_product_name:\n",
    "        driver.get(first_product_link)\n",
    "    else:\n",
    "        Amazon.append(\"\")\n",
    "        Flipkart.append(\"\")\n",
    "        Croma.append(\"\")\n",
    "        length_amazon+=1\n",
    "        length_Flipkart+=1\n",
    "        length_Croma+=1\n",
    "        continue\n",
    "    try:\n",
    "        stores_and_prices= WebDriverWait(driver, 2).until(\n",
    "                    EC.presence_of_element_located((By.XPATH,\"/html[1]/body[1]/div[1]/main[1]/div[3]/aside[1]/div[1]/ul[1]\"))\n",
    "                )\n",
    "        lis=stores_and_prices.find_elements(By.TAG_NAME,'li')\n",
    "        if len(lis)!=0:\n",
    "            for li in lis:\n",
    "                name_and_price=li.find_elements(By.TAG_NAME,\"span\")\n",
    "                name=name_and_price[0].text\n",
    "                price=name_and_price[1].text\n",
    "                if name==\"Amazon\":\n",
    "                    Amazon.append(price)\n",
    "                    continue\n",
    "                elif name==\"Flipkart\":\n",
    "                    Flipkart.append(price)\n",
    "                    continue\n",
    "                elif name==\"Croma\":\n",
    "                    Croma.append(price)\n",
    "                    continue\n",
    "        else:\n",
    "            Amazon.append(\"\")\n",
    "            Flipkart.append(\"\")\n",
    "            Croma.append(\"\")\n",
    "            length_amazon+=1\n",
    "            length_Flipkart+=1\n",
    "            length_Croma+=1\n",
    "            continue\n",
    "        if len(Amazon)>length_amazon:\n",
    "            length_amazon=len(Amazon)\n",
    "        else:\n",
    "            Amazon.append(\"\")\n",
    "            length_amazon=len(Amazon)\n",
    "        if len(Flipkart)>length_Flipkart:\n",
    "            length_Flipkart=len(Flipkart)\n",
    "        else:\n",
    "            Flipkart.append(\"\")\n",
    "            length_Flipkart=len(Flipkart)\n",
    "        if len(Croma)>length_Croma:\n",
    "            length_Croma=len(Croma)\n",
    "        else:\n",
    "            Croma.append(\"\")\n",
    "            length_Croma=len(Croma)\n",
    "    except:\n",
    "        Amazon.append(\"\")\n",
    "        Flipkart.append(\"\")\n",
    "        Croma.append(\"\")\n",
    "        length_amazon+=1\n",
    "        length_Flipkart+=1\n",
    "        length_Croma+=1\n",
    "        continue\n",
    "driver.close()"
   ]
  },
  {
   "cell_type": "code",
   "execution_count": null,
   "id": "06c72925",
   "metadata": {},
   "outputs": [],
   "source": [
    "len(Amazon)==len(Flipkart)==len(Croma)"
   ]
  },
  {
   "cell_type": "code",
   "execution_count": null,
   "id": "d2dcf0f0",
   "metadata": {},
   "outputs": [],
   "source": [
    "##now the problem of the code is that something stopped it from continuing\n",
    "#What stop My bot is ads!!\n",
    "# Sometimes the server can't process my request"
   ]
  },
  {
   "cell_type": "code",
   "execution_count": null,
   "id": "0008d21b",
   "metadata": {},
   "outputs": [],
   "source": [
    "# len(Amazon)"
   ]
  },
  {
   "cell_type": "code",
   "execution_count": null,
   "id": "80e8daf9",
   "metadata": {},
   "outputs": [],
   "source": [
    "# uncomment the first 3 lines and comment the last 3 lines then run the cell \n",
    "# next comment the first 3 lines and uncomment the last ones then run the programme\n",
    "\n",
    "# Amazon_final=[]\n",
    "# Flipkart_final=[]\n",
    "# Croma_final=[]\n",
    "\n",
    "Amazon_final.extend(Amazon)\n",
    "Flipkart_final.extend(Flipkart)\n",
    "Croma_final.extend(Croma)"
   ]
  },
  {
   "cell_type": "code",
   "execution_count": null,
   "id": "5011045f",
   "metadata": {},
   "outputs": [],
   "source": [
    "# len(Croma_final)"
   ]
  },
  {
   "cell_type": "code",
   "execution_count": null,
   "id": "f578528d",
   "metadata": {},
   "outputs": [],
   "source": [
    "# df_concatenated = pd.concat([Products_data, pd.DataFrame({'Amazon Price': Amazon_final, 'Croma Price': Croma_final, 'Flipkart Price': Flipkart_final})], axis=1)"
   ]
  },
  {
   "cell_type": "code",
   "execution_count": null,
   "id": "1d0274ac",
   "metadata": {},
   "outputs": [],
   "source": [
    "# df_concatenated.head(10)"
   ]
  },
  {
   "cell_type": "code",
   "execution_count": null,
   "id": "af960a4f",
   "metadata": {},
   "outputs": [],
   "source": [
    "# df_concatenated.to_excel(\"Final_data.xlsx\",index=False)"
   ]
  },
  {
   "cell_type": "code",
   "execution_count": null,
   "id": "c08c1e17",
   "metadata": {},
   "outputs": [],
   "source": []
  },
  {
   "cell_type": "code",
   "execution_count": null,
   "id": "1a0a406e",
   "metadata": {},
   "outputs": [],
   "source": []
  },
  {
   "cell_type": "code",
   "execution_count": null,
   "id": "248ccce1",
   "metadata": {},
   "outputs": [],
   "source": []
  },
  {
   "cell_type": "code",
   "execution_count": null,
   "id": "c7054cbb",
   "metadata": {},
   "outputs": [],
   "source": []
  },
  {
   "cell_type": "code",
   "execution_count": null,
   "id": "1577debd",
   "metadata": {},
   "outputs": [],
   "source": []
  },
  {
   "cell_type": "code",
   "execution_count": null,
   "id": "7fd990de",
   "metadata": {},
   "outputs": [],
   "source": []
  }
 ],
 "metadata": {
  "kernelspec": {
   "display_name": "Python 3 (ipykernel)",
   "language": "python",
   "name": "python3"
  },
  "language_info": {
   "codemirror_mode": {
    "name": "ipython",
    "version": 3
   },
   "file_extension": ".py",
   "mimetype": "text/x-python",
   "name": "python",
   "nbconvert_exporter": "python",
   "pygments_lexer": "ipython3",
   "version": "3.9.7"
  }
 },
 "nbformat": 4,
 "nbformat_minor": 5
}
