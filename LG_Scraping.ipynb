{
 "cells": [
  {
   "cell_type": "markdown",
   "id": "c761d6a0",
   "metadata": {},
   "source": [
    "## 1- Imports"
   ]
  },
  {
   "cell_type": "code",
   "execution_count": 148,
   "id": "c472d16a",
   "metadata": {},
   "outputs": [],
   "source": [
    "from selenium import webdriver\n",
    "from selenium.webdriver.chrome.service import Service\n",
    "from selenium.webdriver.common.by import By\n",
    "from selenium.webdriver.common.keys import Keys\n",
    "from selenium.webdriver.support.ui import WebDriverWait\n",
    "from selenium.webdriver.support import expected_conditions as EC\n",
    "import pandas as pd\n",
    "import numpy as np"
   ]
  },
  {
   "cell_type": "markdown",
   "id": "aaaf0292",
   "metadata": {},
   "source": [
    "## 2- Data"
   ]
  },
  {
   "cell_type": "code",
   "execution_count": 149,
   "id": "aa8817bc",
   "metadata": {},
   "outputs": [],
   "source": [
    "Products_data = pd.read_excel(\"NLC.xlsx\")"
   ]
  },
  {
   "cell_type": "code",
   "execution_count": 150,
   "id": "98450ddf",
   "metadata": {
    "scrolled": true
   },
   "outputs": [
    {
     "data": {
      "text/html": [
       "<div>\n",
       "<style scoped>\n",
       "    .dataframe tbody tr th:only-of-type {\n",
       "        vertical-align: middle;\n",
       "    }\n",
       "\n",
       "    .dataframe tbody tr th {\n",
       "        vertical-align: top;\n",
       "    }\n",
       "\n",
       "    .dataframe thead th {\n",
       "        text-align: right;\n",
       "    }\n",
       "</style>\n",
       "<table border=\"1\" class=\"dataframe\">\n",
       "  <thead>\n",
       "    <tr style=\"text-align: right;\">\n",
       "      <th></th>\n",
       "      <th>PRODUCT-1</th>\n",
       "      <th>PRODUCT-2</th>\n",
       "      <th>MODEL</th>\n",
       "      <th>MODEL.1</th>\n",
       "      <th>SUFFIX</th>\n",
       "      <th>MRP</th>\n",
       "      <th>DP</th>\n",
       "      <th>GST%</th>\n",
       "      <th>Basic Price</th>\n",
       "      <th>GTM Category</th>\n",
       "      <th>Model Category</th>\n",
       "      <th>NET NLC AFTER ALL GTM &amp; DFI SCHEMES                  ( INVOICE VAL )</th>\n",
       "    </tr>\n",
       "  </thead>\n",
       "  <tbody>\n",
       "    <tr>\n",
       "      <th>0</th>\n",
       "      <td>C&amp;C</td>\n",
       "      <td>CHARCOAL</td>\n",
       "      <td>MJEN326SFW</td>\n",
       "      <td>MJEN326SFW.DBKQILN</td>\n",
       "      <td>DBKQILN</td>\n",
       "      <td>40999</td>\n",
       "      <td>33999.0</td>\n",
       "      <td>0.18</td>\n",
       "      <td>28812.711864</td>\n",
       "      <td>Best</td>\n",
       "      <td>CONV32-CH</td>\n",
       "      <td>25759.225</td>\n",
       "    </tr>\n",
       "    <tr>\n",
       "      <th>1</th>\n",
       "      <td>C&amp;C</td>\n",
       "      <td>CHARCOAL</td>\n",
       "      <td>MJEN326SF</td>\n",
       "      <td>MJEN326SF.DBKQILN</td>\n",
       "      <td>DBKQILN</td>\n",
       "      <td>35999</td>\n",
       "      <td>31999.0</td>\n",
       "      <td>0.18</td>\n",
       "      <td>27117.796610</td>\n",
       "      <td>Best</td>\n",
       "      <td>CONV32-CH</td>\n",
       "      <td>24209.225</td>\n",
       "    </tr>\n",
       "    <tr>\n",
       "      <th>2</th>\n",
       "      <td>C&amp;C</td>\n",
       "      <td>CHARCOAL</td>\n",
       "      <td>MJEN326PK</td>\n",
       "      <td>MJEN326PK.DBKQILN</td>\n",
       "      <td>DBKQILN</td>\n",
       "      <td>32799</td>\n",
       "      <td>28299.0</td>\n",
       "      <td>0.18</td>\n",
       "      <td>23982.203390</td>\n",
       "      <td>Best</td>\n",
       "      <td>CONV32-CH</td>\n",
       "      <td>21341.725</td>\n",
       "    </tr>\n",
       "    <tr>\n",
       "      <th>3</th>\n",
       "      <td>C&amp;C</td>\n",
       "      <td>CHARCOAL</td>\n",
       "      <td>MJEN326UH</td>\n",
       "      <td>MJEN326UH.DBKQILN</td>\n",
       "      <td>DBKQILN</td>\n",
       "      <td>32199</td>\n",
       "      <td>27699.0</td>\n",
       "      <td>0.18</td>\n",
       "      <td>23473.728814</td>\n",
       "      <td>Best</td>\n",
       "      <td>CONV32-CH</td>\n",
       "      <td>20876.725</td>\n",
       "    </tr>\n",
       "    <tr>\n",
       "      <th>4</th>\n",
       "      <td>C&amp;C</td>\n",
       "      <td>CHARCOAL</td>\n",
       "      <td>MJEN326UL</td>\n",
       "      <td>MJEN326UL.DBKQILN</td>\n",
       "      <td>DBKQILN</td>\n",
       "      <td>29999</td>\n",
       "      <td>25599.0</td>\n",
       "      <td>0.18</td>\n",
       "      <td>21694.067797</td>\n",
       "      <td>Best</td>\n",
       "      <td>CONV32-CH</td>\n",
       "      <td>19249.225</td>\n",
       "    </tr>\n",
       "  </tbody>\n",
       "</table>\n",
       "</div>"
      ],
      "text/plain": [
       "  PRODUCT-1 PRODUCT-2       MODEL             MODEL.1   SUFFIX    MRP  \\\n",
       "0       C&C  CHARCOAL  MJEN326SFW  MJEN326SFW.DBKQILN  DBKQILN  40999   \n",
       "1       C&C  CHARCOAL   MJEN326SF   MJEN326SF.DBKQILN  DBKQILN  35999   \n",
       "2       C&C  CHARCOAL   MJEN326PK   MJEN326PK.DBKQILN  DBKQILN  32799   \n",
       "3       C&C  CHARCOAL   MJEN326UH   MJEN326UH.DBKQILN  DBKQILN  32199   \n",
       "4       C&C  CHARCOAL   MJEN326UL   MJEN326UL.DBKQILN  DBKQILN  29999   \n",
       "\n",
       "        DP  GST%   Basic Price GTM Category Model Category  \\\n",
       "0  33999.0  0.18  28812.711864         Best      CONV32-CH   \n",
       "1  31999.0  0.18  27117.796610         Best      CONV32-CH   \n",
       "2  28299.0  0.18  23982.203390         Best      CONV32-CH   \n",
       "3  27699.0  0.18  23473.728814         Best      CONV32-CH   \n",
       "4  25599.0  0.18  21694.067797         Best      CONV32-CH   \n",
       "\n",
       "   NET NLC AFTER ALL GTM & DFI SCHEMES                  ( INVOICE VAL )  \n",
       "0                                          25759.225                     \n",
       "1                                          24209.225                     \n",
       "2                                          21341.725                     \n",
       "3                                          20876.725                     \n",
       "4                                          19249.225                     "
      ]
     },
     "execution_count": 150,
     "metadata": {},
     "output_type": "execute_result"
    }
   ],
   "source": [
    "Products_data.head(5)"
   ]
  },
  {
   "cell_type": "markdown",
   "id": "914cece1",
   "metadata": {},
   "source": [
    "## 3- Path & Driver"
   ]
  },
  {
   "cell_type": "code",
   "execution_count": 151,
   "id": "5bb142a8",
   "metadata": {},
   "outputs": [],
   "source": [
    "PATH=\"C:\\Program Files (x86)\\chromedriver.exe\"\n",
    "Service_PATH= Service(PATH)\n",
    "driver = webdriver.Chrome(service=Service_PATH)"
   ]
  },
  {
   "cell_type": "markdown",
   "id": "72db96ea",
   "metadata": {},
   "source": [
    "## 4- Road to the product"
   ]
  },
  {
   "cell_type": "code",
   "execution_count": 152,
   "id": "f1b300b7",
   "metadata": {},
   "outputs": [],
   "source": [
    "Models=list(Products_data.MODEL)[len(final_Features):]\n",
    "Features=[]\n",
    "Capacities=[]\n",
    "Dimensions=[]\n",
    "Images=[]"
   ]
  },
  {
   "cell_type": "code",
   "execution_count": 154,
   "id": "dc1ac7f9",
   "metadata": {},
   "outputs": [],
   "source": [
    "for model in Models:\n",
    "    driver.get(\"https://www.google.com/\")\n",
    "    try:\n",
    "        input_area= driver.find_element(By.TAG_NAME,\"textarea\")\n",
    "        input_area.send_keys(\"LG \"+model)\n",
    "        input_area.send_keys(Keys.ENTER)\n",
    "    except:\n",
    "        input_area= driver.find_element(By.TAG_NAME,\"input\")\n",
    "        input_area.send_keys(\"LG \"+model)\n",
    "        input_area.send_keys(Keys.ENTER)\n",
    "    search_div=driver.find_element(By.ID,\"search\")\n",
    "    links_list_unpacked=search_div.find_elements(By.TAG_NAME,'a')\n",
    "    links_list=[link.get_attribute('href') for link in links_list_unpacked]\n",
    "    if \"support\" in links_list[0]:\n",
    "        Features.append(\"\")\n",
    "        Capacities.append(\"\")\n",
    "        Dimensions.append(\"\")\n",
    "        Images.append(\"\")\n",
    "        continue\n",
    "    elif \"amazon\" in links_list[0]:\n",
    "        Features.append(\"\")\n",
    "        Capacities.append(\"\")\n",
    "        Dimensions.append(\"\")\n",
    "        Images.append(\"\")\n",
    "        continue\n",
    "    else:\n",
    "        driver.get(links_list[0])\n",
    "    try:\n",
    "        cookie_button=WebDriverWait(driver, 5).until(\n",
    "            EC.presence_of_element_located((By.ID,'onetrust-accept-btn-handler'))\n",
    "        )\n",
    "        cookie_button.click()\n",
    "        Features.append(\"\")\n",
    "        Capacities.append(\"\")\n",
    "        Dimensions.append(\"\")\n",
    "        Images.append(\"\")\n",
    "        continue\n",
    "    except:\n",
    "        pass\n",
    "    try:\n",
    "        Key_Features_div = WebDriverWait(driver, 10).until(\n",
    "            EC.presence_of_element_located((By.CLASS_NAME,\"expand-layer\"))\n",
    "        )\n",
    "    except:\n",
    "        Features.append(\"\")\n",
    "        Capacities.append(\"\")\n",
    "        Dimensions.append(\"\")\n",
    "        Images.append(\"\")\n",
    "        continue\n",
    "    try:\n",
    "        show_more_button=Key_Features_div.find_element(By.TAG_NAME,\"button\")\n",
    "        show_more_button.click()\n",
    "        lis=Key_Features_div.find_elements(By.TAG_NAME,'li')\n",
    "        key_features=[li.text for li in lis]\n",
    "        Features.append(key_features)\n",
    "    except:\n",
    "        continue\n",
    "    try:\n",
    "        summary_div=driver.find_element(By.CLASS_NAME,\"default-specs-section\")\n",
    "        lis=summary_div.find_elements(By.TAG_NAME,'li')\n",
    "        lis=lis[:2]\n",
    "        Capacity,dimension=[li.text for li in lis]\n",
    "        Capacities.append(Capacity)\n",
    "        Dimensions.append(dimension)\n",
    "    except:\n",
    "        Capacities.append(\"\")\n",
    "        Dimensions.append(\"\")\n",
    "    Image_link=driver.find_element(By.ID,\"base_detail_target\").get_attribute('src')\n",
    "    Images.append(Image_link)\n",
    "driver.close()"
   ]
  },
  {
   "cell_type": "code",
   "execution_count": null,
   "id": "462ba880",
   "metadata": {},
   "outputs": [],
   "source": [
    "# uncomment the first 4 lines and comment the last 4 lines then run the cell \n",
    "# next comment the first 4 lines and uncomment the last ones then run the programme\n",
    "\n",
    "# final_Features=[]\n",
    "# final_Capacities=[]\n",
    "# final_Dimensions=[]\n",
    "# final_Images=[]\n",
    "\n",
    "final_Features.extend(Features)\n",
    "final_Capacities.extend(Capacities)\n",
    "final_Dimensions.extend(Dimensions)\n",
    "final_Images.extend(Images)"
   ]
  },
  {
   "cell_type": "code",
   "execution_count": null,
   "id": "d6465d29",
   "metadata": {},
   "outputs": [],
   "source": [
    "# Final_data=pd.DataFrame({'Model':list(Products_data.MODEL),'Features':final_Features,'Capacities':final_Capacities,'Dimensions':final_Dimensions,'Images':final_Images})\n",
    "# Final_data.head()"
   ]
  },
  {
   "cell_type": "code",
   "execution_count": null,
   "id": "86948766",
   "metadata": {},
   "outputs": [],
   "source": [
    "# Final_data.to_excel(\"Products_data.xlsx\",index=False)"
   ]
  },
  {
   "cell_type": "code",
   "execution_count": null,
   "id": "09be7af7",
   "metadata": {},
   "outputs": [],
   "source": []
  },
  {
   "cell_type": "code",
   "execution_count": null,
   "id": "ab6e7c4f",
   "metadata": {},
   "outputs": [],
   "source": []
  },
  {
   "cell_type": "code",
   "execution_count": null,
   "id": "ef794767",
   "metadata": {},
   "outputs": [],
   "source": []
  }
 ],
 "metadata": {
  "kernelspec": {
   "display_name": "Python 3 (ipykernel)",
   "language": "python",
   "name": "python3"
  },
  "language_info": {
   "codemirror_mode": {
    "name": "ipython",
    "version": 3
   },
   "file_extension": ".py",
   "mimetype": "text/x-python",
   "name": "python",
   "nbconvert_exporter": "python",
   "pygments_lexer": "ipython3",
   "version": "3.9.7"
  }
 },
 "nbformat": 4,
 "nbformat_minor": 5
}
